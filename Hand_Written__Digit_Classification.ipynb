{
  "nbformat": 4,
  "nbformat_minor": 0,
  "metadata": {
    "colab": {
      "provenance": [],
      "authorship_tag": "ABX9TyMdUec0YKkumc+8gaU7O90j",
      "include_colab_link": true
    },
    "kernelspec": {
      "name": "python3",
      "display_name": "Python 3"
    },
    "language_info": {
      "name": "python"
    }
  },
  "cells": [
    {
      "cell_type": "markdown",
      "metadata": {
        "id": "view-in-github",
        "colab_type": "text"
      },
      "source": [
        "<a href=\"https://colab.research.google.com/github/Ankita8989/hand-written-digit-classification/blob/main/Hand_Written__Digit_Classification.ipynb\" target=\"_parent\"><img src=\"https://colab.research.google.com/assets/colab-badge.svg\" alt=\"Open In Colab\"/></a>"
      ]
    },
    {
      "cell_type": "markdown",
      "source": [
        "# **Hand Written Digit Prediction - Classification Analysis**"
      ],
      "metadata": {
        "id": "01JQxCzNsH0U"
      }
    },
    {
      "cell_type": "markdown",
      "source": [
        "The digit dataset consists of 8x8 pixel images of digit. The images attribute of the dataset stores 8x8 arrays of grayscale values for each image.We will use these arrays to visualize the first 4 images. The target attribute of the dataset stores the digit each image represents"
      ],
      "metadata": {
        "id": "wEQjm74XsSvp"
      }
    },
    {
      "cell_type": "markdown",
      "source": [
        "# Import Library"
      ],
      "metadata": {
        "id": "6iRxXYJGtMvd"
      }
    },
    {
      "cell_type": "code",
      "execution_count": null,
      "metadata": {
        "id": "4uNSUDuOAbri"
      },
      "outputs": [],
      "source": [
        "import pandas as pd"
      ]
    },
    {
      "cell_type": "code",
      "source": [
        "import numpy as np\n"
      ],
      "metadata": {
        "id": "3wTAPaM3BncH"
      },
      "execution_count": null,
      "outputs": []
    },
    {
      "cell_type": "code",
      "source": [
        "import matplotlib.pyplot as plt\n"
      ],
      "metadata": {
        "id": "yHF_MMMuBxXe"
      },
      "execution_count": null,
      "outputs": []
    },
    {
      "cell_type": "markdown",
      "source": [
        "# Import Data"
      ],
      "metadata": {
        "id": "oTlTaBCBuGbg"
      }
    },
    {
      "cell_type": "code",
      "source": [
        "from sklearn.datasets import load_digits"
      ],
      "metadata": {
        "id": "rOKIJBPCCAyK"
      },
      "execution_count": null,
      "outputs": []
    },
    {
      "cell_type": "code",
      "source": [
        "df = load_digits()"
      ],
      "metadata": {
        "id": "7aMPIBjZDWPK"
      },
      "execution_count": null,
      "outputs": []
    },
    {
      "cell_type": "code",
      "source": [
        "_, axes = plt.subplots(nrows=1, ncols=4, figsize=(10,3))\n",
        "for ax, image, label in zip(axes, df.images,df.target):\n",
        "  ax.set_axis_off()\n",
        "  ax.imshow(image,  cmap=plt.cm.gray_r, interpolation=\"nearest\")\n",
        "  ax.set_title(\"Training: %i\" % label)"
      ],
      "metadata": {
        "colab": {
          "base_uri": "https://localhost:8080/",
          "height": 227
        },
        "id": "WLV0Dk4dEzoi",
        "outputId": "b3d3501f-84df-4dc1-ee46-ee2c4f996823"
      },
      "execution_count": null,
      "outputs": [
        {
          "output_type": "display_data",
          "data": {
            "text/plain": [
              "<Figure size 1000x300 with 4 Axes>"
            ],
            "image/png": "[encoded data removed]"
          },
          "metadata": {}
        }
      ]
    },
    {
      "cell_type": "markdown",
      "source": [
        "# Data Preprocessing"
      ],
      "metadata": {
        "id": "ND78HUAFugEl"
      }
    },
    {
      "cell_type": "markdown",
      "source": [
        "Flatten image"
      ],
      "metadata": {
        "id": "EebqQ6zvSu-J"
      }
    },
    {
      "cell_type": "markdown",
      "source": [
        "Flatten image\n",
        "![WhatsApp Image 2024-02-17 at 23.43.25_3d988d5a.jpg](data:image/jpeg;base64,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)"
      ],
      "metadata": {
        "id": "UlCUj1rfRqQb"
      }
    },
    {
      "cell_type": "markdown",
      "source": [
        "![image.png](data:image/png;base64,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)"
      ],
      "metadata": {
        "id": "wNGp06S_TMsG"
      }
    },
    {
      "cell_type": "markdown",
      "source": [],
      "metadata": {
        "id": "L2MLyxQ1TviF"
      }
    },
    {
      "cell_type": "code",
      "source": [
        "df.images.shape"
      ],
      "metadata": {
        "colab": {
          "base_uri": "https://localhost:8080/"
        },
        "id": "PECfoAWNUH4v",
        "outputId": "b314826e-3306-4e35-ee6f-cf992df5c86c"
      },
      "execution_count": null,
      "outputs": [
        {
          "output_type": "execute_result",
          "data": {
            "text/plain": [
              "(1797, 8, 8)"
            ]
          },
          "metadata": {},
          "execution_count": 8
        }
      ]
    },
    {
      "cell_type": "code",
      "source": [
        "df.images[0]"
      ],
      "metadata": {
        "colab": {
          "base_uri": "https://localhost:8080/"
        },
        "id": "EAi_z6XaWIv2",
        "outputId": "4c470637-1587-44e9-f254-072573ac64b0"
      },
      "execution_count": null,
      "outputs": [
        {
          "output_type": "execute_result",
          "data": {
            "text/plain": [
              "array([[ 0.,  0.,  5., 13.,  9.,  1.,  0.,  0.],\n",
              "       [ 0.,  0., 13., 15., 10., 15.,  5.,  0.],\n",
              "       [ 0.,  3., 15.,  2.,  0., 11.,  8.,  0.],\n",
              "       [ 0.,  4., 12.,  0.,  0.,  8.,  8.,  0.],\n",
              "       [ 0.,  5.,  8.,  0.,  0.,  9.,  8.,  0.],\n",
              "       [ 0.,  4., 11.,  0.,  1., 12.,  7.,  0.],\n",
              "       [ 0.,  2., 14.,  5., 10., 12.,  0.,  0.],\n",
              "       [ 0.,  0.,  6., 13., 10.,  0.,  0.,  0.]])"
            ]
          },
          "metadata": {},
          "execution_count": 13
        }
      ]
    },
    {
      "cell_type": "code",
      "source": [
        "df.images[0].shape"
      ],
      "metadata": {
        "colab": {
          "base_uri": "https://localhost:8080/"
        },
        "id": "dDS4hjARWe-r",
        "outputId": "0e6f5cbf-5c8b-4a1d-d77a-6588fe7dc880"
      },
      "execution_count": null,
      "outputs": [
        {
          "output_type": "execute_result",
          "data": {
            "text/plain": [
              "(8, 8)"
            ]
          },
          "metadata": {},
          "execution_count": 14
        }
      ]
    },
    {
      "cell_type": "code",
      "source": [
        "len(df.images)"
      ],
      "metadata": {
        "colab": {
          "base_uri": "https://localhost:8080/"
        },
        "id": "ETlCNeKRW7-t",
        "outputId": "23e6d508-77ad-451d-ac9e-77198aea12bd"
      },
      "execution_count": null,
      "outputs": [
        {
          "output_type": "execute_result",
          "data": {
            "text/plain": [
              "1797"
            ]
          },
          "metadata": {},
          "execution_count": 15
        }
      ]
    },
    {
      "cell_type": "code",
      "source": [
        "n_samples = len(df.images)\n",
        "data = df.images.reshape(( n_samples, -1))"
      ],
      "metadata": {
        "id": "FzhubYo6Xkhl"
      },
      "execution_count": null,
      "outputs": []
    },
    {
      "cell_type": "code",
      "source": [
        "data[0]"
      ],
      "metadata": {
        "colab": {
          "base_uri": "https://localhost:8080/"
        },
        "id": "2DwS4kYLZG_9",
        "outputId": "6363fa3b-a79f-4d1e-d78e-d6efb2df9b47"
      },
      "execution_count": null,
      "outputs": [
        {
          "output_type": "execute_result",
          "data": {
            "text/plain": [
              "array([ 0.,  0.,  5., 13.,  9.,  1.,  0.,  0.,  0.,  0., 13., 15., 10.,\n",
              "       15.,  5.,  0.,  0.,  3., 15.,  2.,  0., 11.,  8.,  0.,  0.,  4.,\n",
              "       12.,  0.,  0.,  8.,  8.,  0.,  0.,  5.,  8.,  0.,  0.,  9.,  8.,\n",
              "        0.,  0.,  4., 11.,  0.,  1., 12.,  7.,  0.,  0.,  2., 14.,  5.,\n",
              "       10., 12.,  0.,  0.,  0.,  0.,  6., 13., 10.,  0.,  0.,  0.])"
            ]
          },
          "metadata": {},
          "execution_count": 17
        }
      ]
    },
    {
      "cell_type": "code",
      "source": [
        "data[0].shape"
      ],
      "metadata": {
        "colab": {
          "base_uri": "https://localhost:8080/"
        },
        "id": "ltlGNOdQZ9hW",
        "outputId": "2a7ffad1-1355-41c0-d9cf-2d22d0d92526"
      },
      "execution_count": null,
      "outputs": [
        {
          "output_type": "execute_result",
          "data": {
            "text/plain": [
              "(64,)"
            ]
          },
          "metadata": {},
          "execution_count": 18
        }
      ]
    },
    {
      "cell_type": "code",
      "source": [
        "data.shape"
      ],
      "metadata": {
        "colab": {
          "base_uri": "https://localhost:8080/"
        },
        "id": "k-5yZlICaK4j",
        "outputId": "157aea65-4ab3-4e90-f900-f2c6fc005deb"
      },
      "execution_count": null,
      "outputs": [
        {
          "output_type": "execute_result",
          "data": {
            "text/plain": [
              "(1797, 64)"
            ]
          },
          "metadata": {},
          "execution_count": 19
        }
      ]
    },
    {
      "cell_type": "markdown",
      "source": [
        "# Scaling Image Data"
      ],
      "metadata": {
        "id": "QBJu_YGju7gh"
      }
    },
    {
      "cell_type": "code",
      "source": [
        "data.min()"
      ],
      "metadata": {
        "colab": {
          "base_uri": "https://localhost:8080/"
        },
        "id": "Qb1RhlYVae1m",
        "outputId": "e0681524-c171-47ae-ef45-bfd34bf54ae2"
      },
      "execution_count": null,
      "outputs": [
        {
          "output_type": "execute_result",
          "data": {
            "text/plain": [
              "0.0"
            ]
          },
          "metadata": {},
          "execution_count": 20
        }
      ]
    },
    {
      "cell_type": "code",
      "source": [
        "data.max()"
      ],
      "metadata": {
        "colab": {
          "base_uri": "https://localhost:8080/"
        },
        "id": "lNCXOSrnajo4",
        "outputId": "7c6b934f-26b7-46e5-c204-1043ac7a2d11"
      },
      "execution_count": null,
      "outputs": [
        {
          "output_type": "execute_result",
          "data": {
            "text/plain": [
              "16.0"
            ]
          },
          "metadata": {},
          "execution_count": 21
        }
      ]
    },
    {
      "cell_type": "code",
      "source": [
        "data = data/16"
      ],
      "metadata": {
        "id": "RA32X9fTapXH"
      },
      "execution_count": null,
      "outputs": []
    },
    {
      "cell_type": "code",
      "source": [
        "data.min()"
      ],
      "metadata": {
        "colab": {
          "base_uri": "https://localhost:8080/"
        },
        "id": "96GqhXz_bAX0",
        "outputId": "b39c7600-026e-46eb-b1fc-6ce6295a81c5"
      },
      "execution_count": null,
      "outputs": [
        {
          "output_type": "execute_result",
          "data": {
            "text/plain": [
              "0.0"
            ]
          },
          "metadata": {},
          "execution_count": 23
        }
      ]
    },
    {
      "cell_type": "code",
      "source": [
        "data.max()"
      ],
      "metadata": {
        "colab": {
          "base_uri": "https://localhost:8080/"
        },
        "id": "l-X2wf7RbDZ1",
        "outputId": "fb5cdc63-7584-4d48-83ac-0d1e3e93b46c"
      },
      "execution_count": null,
      "outputs": [
        {
          "output_type": "execute_result",
          "data": {
            "text/plain": [
              "1.0"
            ]
          },
          "metadata": {},
          "execution_count": 24
        }
      ]
    },
    {
      "cell_type": "code",
      "source": [
        "data[0]"
      ],
      "metadata": {
        "colab": {
          "base_uri": "https://localhost:8080/"
        },
        "id": "E2-qHyJ0bxZu",
        "outputId": "6109f550-9c8a-40f7-c8c8-f275d5d98b93"
      },
      "execution_count": null,
      "outputs": [
        {
          "output_type": "execute_result",
          "data": {
            "text/plain": [
              "array([0.    , 0.    , 0.3125, 0.8125, 0.5625, 0.0625, 0.    , 0.    ,\n",
              "       0.    , 0.    , 0.8125, 0.9375, 0.625 , 0.9375, 0.3125, 0.    ,\n",
              "       0.    , 0.1875, 0.9375, 0.125 , 0.    , 0.6875, 0.5   , 0.    ,\n",
              "       0.    , 0.25  , 0.75  , 0.    , 0.    , 0.5   , 0.5   , 0.    ,\n",
              "       0.    , 0.3125, 0.5   , 0.    , 0.    , 0.5625, 0.5   , 0.    ,\n",
              "       0.    , 0.25  , 0.6875, 0.    , 0.0625, 0.75  , 0.4375, 0.    ,\n",
              "       0.    , 0.125 , 0.875 , 0.3125, 0.625 , 0.75  , 0.    , 0.    ,\n",
              "       0.    , 0.    , 0.375 , 0.8125, 0.625 , 0.    , 0.    , 0.    ])"
            ]
          },
          "metadata": {},
          "execution_count": 25
        }
      ]
    },
    {
      "cell_type": "markdown",
      "source": [
        "# Train Test Split Data"
      ],
      "metadata": {
        "id": "hdKrIPPJvF0h"
      }
    },
    {
      "cell_type": "code",
      "source": [
        "from sklearn.model_selection import train_test_split"
      ],
      "metadata": {
        "id": "Xn8YlfyHbw2X"
      },
      "execution_count": null,
      "outputs": []
    },
    {
      "cell_type": "code",
      "source": [
        "X_train, X_test, y_train, y_test = train_test_split(data, df.target, test_size=0.3)"
      ],
      "metadata": {
        "id": "GwAfLhhcdVST"
      },
      "execution_count": null,
      "outputs": []
    },
    {
      "cell_type": "code",
      "source": [
        "X_train.shape, X_test.shape, y_train.shape, y_test.shape"
      ],
      "metadata": {
        "colab": {
          "base_uri": "https://localhost:8080/"
        },
        "id": "dlZNPQ_0dRCw",
        "outputId": "4d2b4e97-7d55-4b7e-a338-0adf4867b784"
      },
      "execution_count": null,
      "outputs": [
        {
          "output_type": "execute_result",
          "data": {
            "text/plain": [
              "((1257, 64), (540, 64), (1257,), (540,))"
            ]
          },
          "metadata": {},
          "execution_count": 31
        }
      ]
    },
    {
      "cell_type": "markdown",
      "source": [
        "# Random Forest Model"
      ],
      "metadata": {
        "id": "i__saCO-vbX9"
      }
    },
    {
      "cell_type": "code",
      "source": [
        "from sklearn.ensemble import RandomForestClassifier"
      ],
      "metadata": {
        "id": "O2uS8C_6e-le"
      },
      "execution_count": null,
      "outputs": []
    },
    {
      "cell_type": "code",
      "source": [
        "rf = RandomForestClassifier()"
      ],
      "metadata": {
        "id": "DdkWaEiFfiDG"
      },
      "execution_count": null,
      "outputs": []
    },
    {
      "cell_type": "code",
      "source": [
        "rf. fit(X_train, y_train)"
      ],
      "metadata": {
        "colab": {
          "base_uri": "https://localhost:8080/",
          "height": 75
        },
        "id": "_YV7Ed-5fust",
        "outputId": "4deaf7ea-0b1c-48a0-9cff-eb954b014db4"
      },
      "execution_count": null,
      "outputs": [
        {
          "output_type": "execute_result",
          "data": {
            "text/plain": [
              "RandomForestClassifier()"
            ],
            "text/html": [
              "<style>#sk-container-id-1 {color: black;background-color: white;}#sk-container-id-1 pre{padding: 0;}#sk-container-id-1 div.sk-toggleable {background-color: white;}#sk-container-id-1 label.sk-toggleable__label {cursor: pointer;display: block;width: 100%;margin-bottom: 0;padding: 0.3em;box-sizing: border-box;text-align: center;}#sk-container-id-1 label.sk-toggleable__label-arrow:before {content: \"▸\";float: left;margin-right: 0.25em;color: #696969;}#sk-container-id-1 label.sk-toggleable__label-arrow:hover:before {color: black;}#sk-container-id-1 div.sk-estimator:hover label.sk-toggleable__label-arrow:before {color: black;}#sk-container-id-1 div.sk-toggleable__content {max-height: 0;max-width: 0;overflow: hidden;text-align: left;background-color: #f0f8ff;}#sk-container-id-1 div.sk-toggleable__content pre {margin: 0.2em;color: black;border-radius: 0.25em;background-color: #f0f8ff;}#sk-container-id-1 input.sk-toggleable__control:checked~div.sk-toggleable__content {max-height: 200px;max-width: 100%;overflow: auto;}#sk-container-id-1 input.sk-toggleable__control:checked~label.sk-toggleable__label-arrow:before {content: \"▾\";}#sk-container-id-1 div.sk-estimator input.sk-toggleable__control:checked~label.sk-toggleable__label {background-color: #d4ebff;}#sk-container-id-1 div.sk-label input.sk-toggleable__control:checked~label.sk-toggleable__label {background-color: #d4ebff;}#sk-container-id-1 input.sk-hidden--visually {border: 0;clip: rect(1px 1px 1px 1px);clip: rect(1px, 1px, 1px, 1px);height: 1px;margin: -1px;overflow: hidden;padding: 0;position: absolute;width: 1px;}#sk-container-id-1 div.sk-estimator {font-family: monospace;background-color: #f0f8ff;border: 1px dotted black;border-radius: 0.25em;box-sizing: border-box;margin-bottom: 0.5em;}#sk-container-id-1 div.sk-estimator:hover {background-color: #d4ebff;}#sk-container-id-1 div.sk-parallel-item::after {content: \"\";width: 100%;border-bottom: 1px solid gray;flex-grow: 1;}#sk-container-id-1 div.sk-label:hover label.sk-toggleable__label {background-color: #d4ebff;}#sk-container-id-1 div.sk-serial::before {content: \"\";position: absolute;border-left: 1px solid gray;box-sizing: border-box;top: 0;bottom: 0;left: 50%;z-index: 0;}#sk-container-id-1 div.sk-serial {display: flex;flex-direction: column;align-items: center;background-color: white;padding-right: 0.2em;padding-left: 0.2em;position: relative;}#sk-container-id-1 div.sk-item {position: relative;z-index: 1;}#sk-container-id-1 div.sk-parallel {display: flex;align-items: stretch;justify-content: center;background-color: white;position: relative;}#sk-container-id-1 div.sk-item::before, #sk-container-id-1 div.sk-parallel-item::before {content: \"\";position: absolute;border-left: 1px solid gray;box-sizing: border-box;top: 0;bottom: 0;left: 50%;z-index: -1;}#sk-container-id-1 div.sk-parallel-item {display: flex;flex-direction: column;z-index: 1;position: relative;background-color: white;}#sk-container-id-1 div.sk-parallel-item:first-child::after {align-self: flex-end;width: 50%;}#sk-container-id-1 div.sk-parallel-item:last-child::after {align-self: flex-start;width: 50%;}#sk-container-id-1 div.sk-parallel-item:only-child::after {width: 0;}#sk-container-id-1 div.sk-dashed-wrapped {border: 1px dashed gray;margin: 0 0.4em 0.5em 0.4em;box-sizing: border-box;padding-bottom: 0.4em;background-color: white;}#sk-container-id-1 div.sk-label label {font-family: monospace;font-weight: bold;display: inline-block;line-height: 1.2em;}#sk-container-id-1 div.sk-label-container {text-align: center;}#sk-container-id-1 div.sk-container {/* jupyter's `normalize.less` sets `[hidden] { display: none; }` but bootstrap.min.css set `[hidden] { display: none !important; }` so we also need the `!important` here to be able to override the default hidden behavior on the sphinx rendered scikit-learn.org. See: https://github.com/scikit-learn/scikit-learn/issues/21755 */display: inline-block !important;position: relative;}#sk-container-id-1 div.sk-text-repr-fallback {display: none;}</style><div id=\"sk-container-id-1\" class=\"sk-top-container\"><div class=\"sk-text-repr-fallback\"><pre>RandomForestClassifier()</pre><b>In a Jupyter environment, please rerun this cell to show the HTML representation or trust the notebook. <br />On GitHub, the HTML representation is unable to render, please try loading this page with nbviewer.org.</b></div><div class=\"sk-container\" hidden><div class=\"sk-item\"><div class=\"sk-estimator sk-toggleable\"><input class=\"sk-toggleable__control sk-hidden--visually\" id=\"sk-estimator-id-1\" type=\"checkbox\" checked><label for=\"sk-estimator-id-1\" class=\"sk-toggleable__label sk-toggleable__label-arrow\">RandomForestClassifier</label><div class=\"sk-toggleable__content\"><pre>RandomForestClassifier()</pre></div></div></div></div></div>"
            ]
          },
          "metadata": {},
          "execution_count": 35
        }
      ]
    },
    {
      "cell_type": "markdown",
      "source": [
        "# Predict Test Data"
      ],
      "metadata": {
        "id": "2h7TF79Wvj4N"
      }
    },
    {
      "cell_type": "code",
      "source": [
        "y_pred = rf.predict (X_test)"
      ],
      "metadata": {
        "id": "iJovV_gVgXt3"
      },
      "execution_count": null,
      "outputs": []
    },
    {
      "cell_type": "code",
      "source": [
        "y_pred"
      ],
      "metadata": {
        "colab": {
          "base_uri": "https://localhost:8080/"
        },
        "id": "_bVF35Hrg3u-",
        "outputId": "b8e18236-9cb2-4b20-8e1c-56f4cc3c1e65"
      },
      "execution_count": null,
      "outputs": [
        {
          "output_type": "execute_result",
          "data": {
            "text/plain": [
              "array([6, 4, 0, 0, 9, 2, 1, 0, 5, 4, 9, 6, 5, 5, 2, 7, 5, 7, 7, 9, 8, 9,\n",
              "       4, 1, 3, 6, 6, 4, 8, 3, 6, 8, 5, 4, 8, 4, 1, 8, 5, 8, 1, 8, 5, 5,\n",
              "       0, 3, 0, 4, 4, 6, 9, 0, 2, 9, 6, 5, 3, 3, 0, 1, 4, 8, 5, 5, 6, 0,\n",
              "       5, 9, 5, 8, 9, 8, 9, 0, 0, 3, 1, 8, 1, 9, 6, 3, 4, 5, 9, 3, 9, 3,\n",
              "       1, 0, 5, 8, 7, 3, 3, 9, 9, 6, 1, 5, 9, 9, 3, 3, 2, 6, 1, 5, 1, 2,\n",
              "       0, 4, 9, 0, 0, 6, 4, 1, 3, 1, 3, 9, 8, 5, 9, 5, 1, 6, 8, 1, 6, 0,\n",
              "       4, 5, 8, 3, 0, 9, 6, 2, 4, 6, 6, 9, 8, 3, 4, 7, 5, 0, 2, 9, 7, 2,\n",
              "       2, 3, 0, 6, 7, 2, 7, 4, 7, 4, 5, 9, 5, 9, 8, 9, 5, 9, 1, 9, 9, 6,\n",
              "       2, 5, 8, 9, 3, 9, 9, 5, 3, 7, 3, 8, 6, 2, 1, 6, 8, 0, 0, 0, 0, 4,\n",
              "       6, 1, 2, 0, 9, 8, 7, 8, 9, 3, 5, 9, 7, 2, 2, 7, 0, 8, 1, 8, 9, 0,\n",
              "       4, 8, 8, 0, 7, 3, 6, 6, 5, 8, 4, 4, 1, 1, 9, 7, 3, 5, 5, 5, 6, 6,\n",
              "       5, 2, 7, 7, 7, 5, 6, 2, 6, 2, 7, 6, 0, 4, 6, 3, 0, 8, 7, 3, 4, 4,\n",
              "       6, 1, 3, 1, 9, 9, 5, 8, 4, 3, 3, 0, 1, 3, 1, 7, 3, 2, 5, 4, 7, 2,\n",
              "       2, 4, 5, 7, 7, 0, 3, 8, 7, 6, 7, 7, 0, 5, 6, 6, 7, 6, 3, 6, 1, 2,\n",
              "       7, 5, 6, 4, 0, 3, 8, 0, 8, 5, 4, 7, 9, 4, 6, 5, 5, 5, 5, 9, 4, 6,\n",
              "       3, 3, 5, 8, 4, 3, 7, 3, 8, 3, 9, 9, 8, 7, 0, 1, 8, 1, 2, 2, 0, 0,\n",
              "       5, 9, 3, 2, 9, 7, 6, 2, 1, 8, 2, 9, 2, 3, 4, 7, 7, 5, 5, 7, 6, 5,\n",
              "       9, 1, 7, 7, 7, 2, 4, 7, 4, 4, 1, 3, 0, 7, 5, 8, 8, 3, 4, 4, 9, 2,\n",
              "       0, 4, 4, 5, 0, 0, 8, 5, 3, 2, 3, 5, 9, 8, 7, 4, 9, 3, 5, 0, 5, 8,\n",
              "       4, 1, 4, 6, 1, 5, 8, 7, 8, 4, 0, 9, 2, 0, 8, 1, 0, 6, 5, 4, 0, 0,\n",
              "       9, 9, 3, 4, 7, 0, 1, 4, 5, 7, 9, 7, 1, 4, 5, 1, 6, 2, 7, 2, 1, 0,\n",
              "       5, 0, 7, 7, 8, 4, 3, 4, 4, 3, 9, 2, 4, 0, 5, 3, 5, 5, 2, 3, 9, 1,\n",
              "       9, 4, 2, 5, 2, 5, 1, 6, 6, 2, 8, 2, 4, 0, 7, 5, 8, 2, 6, 8, 9, 0,\n",
              "       7, 6, 0, 6, 4, 4, 5, 8, 5, 7, 1, 9, 3, 8, 2, 8, 7, 1, 0, 2, 6, 5,\n",
              "       0, 5, 3, 0, 7, 5, 0, 3, 5, 2, 0, 8])"
            ]
          },
          "metadata": {},
          "execution_count": 37
        }
      ]
    },
    {
      "cell_type": "markdown",
      "source": [
        "# Model Accuracy"
      ],
      "metadata": {
        "id": "P4ihPpKkvt8u"
      }
    },
    {
      "cell_type": "code",
      "source": [
        "from sklearn.metrics import confusion_matrix, classification_report"
      ],
      "metadata": {
        "id": "hsA6aGA_hAbV"
      },
      "execution_count": null,
      "outputs": []
    },
    {
      "cell_type": "code",
      "source": [
        "confusion_matrix(y_test, y_pred)"
      ],
      "metadata": {
        "colab": {
          "base_uri": "https://localhost:8080/"
        },
        "id": "DTrW00z0iHmm",
        "outputId": "8f170235-efe7-4bf5-db9b-3a049a01e838"
      },
      "execution_count": null,
      "outputs": [
        {
          "output_type": "execute_result",
          "data": {
            "text/plain": [
              "array([[58,  0,  0,  0,  0,  0,  0,  0,  0,  0],\n",
              "       [ 0, 39,  0,  0,  0,  0,  0,  0,  0,  0],\n",
              "       [ 0,  0, 44,  0,  0,  0,  0,  0,  0,  0],\n",
              "       [ 0,  1,  0, 51,  0,  1,  0,  0,  0,  0],\n",
              "       [ 0,  0,  0,  0, 55,  0,  0,  2,  0,  0],\n",
              "       [ 0,  0,  0,  0,  0, 67,  0,  0,  0,  0],\n",
              "       [ 0,  0,  0,  0,  1,  1, 50,  0,  0,  0],\n",
              "       [ 0,  0,  0,  0,  0,  0,  0, 52,  1,  1],\n",
              "       [ 0,  2,  0,  1,  0,  0,  0,  0, 50,  1],\n",
              "       [ 0,  0,  0,  2,  0,  2,  0,  0,  2, 56]])"
            ]
          },
          "metadata": {},
          "execution_count": 40
        }
      ]
    },
    {
      "cell_type": "code",
      "source": [
        "print(classification_report(y_test, y_pred))"
      ],
      "metadata": {
        "colab": {
          "base_uri": "https://localhost:8080/"
        },
        "id": "TGdNLZY3imUS",
        "outputId": "8b0f6d34-f9c3-4f68-f6ca-2ffaf65f20e5"
      },
      "execution_count": null,
      "outputs": [
        {
          "output_type": "stream",
          "name": "stdout",
          "text": [
            "              precision    recall  f1-score   support\n",
            "\n",
            "           0       1.00      1.00      1.00        58\n",
            "           1       0.93      1.00      0.96        39\n",
            "           2       1.00      1.00      1.00        44\n",
            "           3       0.94      0.96      0.95        53\n",
            "           4       0.98      0.96      0.97        57\n",
            "           5       0.94      1.00      0.97        67\n",
            "           6       1.00      0.96      0.98        52\n",
            "           7       0.96      0.96      0.96        54\n",
            "           8       0.94      0.93      0.93        54\n",
            "           9       0.97      0.90      0.93        62\n",
            "\n",
            "    accuracy                           0.97       540\n",
            "   macro avg       0.97      0.97      0.97       540\n",
            "weighted avg       0.97      0.97      0.97       540\n",
            "\n"
          ]
        }
      ]
    }
  ]
}